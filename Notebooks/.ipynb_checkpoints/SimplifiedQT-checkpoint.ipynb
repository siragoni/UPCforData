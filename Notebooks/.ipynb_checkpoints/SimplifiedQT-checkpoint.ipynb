{
 "cells": [
  {
   "cell_type": "markdown",
   "metadata": {},
   "source": [
    "# Simplified QT\n",
    "\n",
    "This notebook computes the entanglement entropy and the degree of polarisation."
   ]
  },
  {
   "cell_type": "code",
   "execution_count": 1,
   "metadata": {},
   "outputs": [],
   "source": [
    "import os\n",
    "import sys\n",
    "import warnings\n",
    "import matplotlib.pyplot as plt\n",
    "import pickle\n",
    "import uproot\n",
    "import numpy as np\n",
    "import pandas as pd\n",
    "# import xgboost as xgb\n",
    "import sklearn\n",
    "\n",
    "sys.path.insert(0, '../')\n",
    "# import analysis_utils as au\n",
    "\n",
    "# avoid pandas warning\n",
    "warnings.simplefilter(action='ignore', category=FutureWarning)\n"
   ]
  },
  {
   "cell_type": "code",
   "execution_count": 2,
   "metadata": {},
   "outputs": [],
   "source": [
    "import skhep\n",
    "from skhep import math\n",
    "\n",
    "\n",
    "# Levi-Civita symbol\n",
    "import sympy\n",
    "from sympy import LeviCivita\n"
   ]
  },
  {
   "cell_type": "code",
   "execution_count": 3,
   "metadata": {},
   "outputs": [],
   "source": [
    "from scipy.linalg import logm, expm"
   ]
  },
  {
   "cell_type": "code",
   "execution_count": 4,
   "metadata": {},
   "outputs": [],
   "source": [
    "# RhoX_He = np.array([[0.50140,           0.,     0.01521], \n",
    "#                     [     0.,       0.5480,          0.], \n",
    "#                     [0.01521,           0.,    -0.04943]])\n",
    "\n",
    "\n",
    "# RhoX_Cs = np.array([[0.51360,           0.,     0.01757], \n",
    "#                     [     0.,       0.5617,          0.], \n",
    "#                     [0.01757,           0.,    -0.07536]])\n",
    "\n",
    "RhoX_He = np.array([[0.47020,           0.,     0.01517 ], \n",
    "                    [     0.,       0.5187,          0. ], \n",
    "                    [0.01517,           0.,     0.01112 ]])\n",
    "\n",
    "\n",
    "RhoX_Cs = np.array([[0.47640,           0.,     0.01412], \n",
    "                    [     0.,       0.5148,          0.], \n",
    "                    [0.01412,           0.,    0.008827]])\n",
    "\n",
    "\n",
    "\n",
    "log_RhoX_He = logm(RhoX_He)\n",
    "log_RhoX_Cs = logm(RhoX_Cs)"
   ]
  },
  {
   "cell_type": "code",
   "execution_count": 5,
   "metadata": {},
   "outputs": [
    {
     "data": {
      "text/plain": [
       "array([[-0.69127115+2.38990757e-03j,  0.        +0.00000000e+00j,\n",
       "         0.06366743-8.66164212e-02j],\n",
       "       [ 0.        +0.00000000e+00j, -0.60147999+0.00000000e+00j,\n",
       "         0.        +0.00000000e+00j],\n",
       "       [ 0.06366743-8.66164212e-02j,  0.        +0.00000000e+00j,\n",
       "        -2.99698666+3.13920275e+00j]])"
      ]
     },
     "execution_count": 5,
     "metadata": {},
     "output_type": "execute_result"
    }
   ],
   "source": [
    "log_RhoX_He\n"
   ]
  },
  {
   "cell_type": "code",
   "execution_count": 6,
   "metadata": {},
   "outputs": [
    {
     "data": {
      "text/plain": [
       "array([[-0.66698961+2.78845837e-03j,  0.        +0.00000000e+00j,\n",
       "         0.05697559-9.35543950e-02j],\n",
       "       [ 0.        +0.00000000e+00j, -0.57678738+0.00000000e+00j,\n",
       "         0.        +0.00000000e+00j],\n",
       "       [ 0.05697559-9.35543950e-02j,  0.        +0.00000000e+00j,\n",
       "        -2.57685535+3.13880420e+00j]])"
      ]
     },
     "execution_count": 6,
     "metadata": {},
     "output_type": "execute_result"
    }
   ],
   "source": [
    "log_RhoX_Cs\n"
   ]
  },
  {
   "cell_type": "code",
   "execution_count": 7,
   "metadata": {},
   "outputs": [
    {
     "data": {
      "text/plain": [
       "(0.5280733373680849+0.15397249207845473j)"
      ]
     },
     "execution_count": 7,
     "metadata": {},
     "output_type": "execute_result"
    }
   ],
   "source": [
    "S_He = (-1.)*(RhoX_He*log_RhoX_He).trace()\n",
    "S_He\n"
   ]
  },
  {
   "cell_type": "code",
   "execution_count": 8,
   "metadata": {},
   "outputs": [
    {
     "data": {
      "text/plain": [
       "(0.4723555138549935+0.2351081319330544j)"
      ]
     },
     "execution_count": 8,
     "metadata": {},
     "output_type": "execute_result"
    }
   ],
   "source": [
    "S_Cs = (-1.)*(RhoX_Cs*log_RhoX_Cs).trace()\n",
    "S_Cs\n"
   ]
  },
  {
   "cell_type": "code",
   "execution_count": 9,
   "metadata": {},
   "outputs": [
    {
     "name": "stderr",
     "output_type": "stream",
     "text": [
      "/opt/anaconda3/lib/python3.7/site-packages/scipy/linalg/_matfuncs_inv_ssq.py:829: LogmExactlySingularWarning: The logm input matrix is exactly singular.\n",
      "  warnings.warn(exact_singularity_msg, LogmExactlySingularWarning)\n"
     ]
    },
    {
     "data": {
      "text/plain": [
       "0.5"
      ]
     },
     "execution_count": 9,
     "metadata": {},
     "output_type": "execute_result"
    }
   ],
   "source": [
    "RhoX_pure = np.array([[0.5, 0. , 0.], \n",
    "                      [0. , 0.5, 0.], \n",
    "                      [0. , 0. , 0.]])\n",
    "\n",
    "log_RhoX_pure = logm(RhoX_pure)\n",
    "log_RhoX_pure\n",
    "\n",
    "\n",
    "d_pure = math.sqrt( 0.5 * ((RhoX_pure*RhoX_pure).trace()*3. - 1)  )\n",
    "d_pure\n"
   ]
  },
  {
   "cell_type": "code",
   "execution_count": 10,
   "metadata": {},
   "outputs": [
    {
     "data": {
      "text/plain": [
       "0.5755205707444349"
      ]
     },
     "execution_count": 10,
     "metadata": {},
     "output_type": "execute_result"
    }
   ],
   "source": [
    "d_He = math.sqrt( 0.5 * ((RhoX_He*RhoX_He).trace()*3. - 1)  )\n",
    "d_He\n"
   ]
  },
  {
   "cell_type": "code",
   "execution_count": 11,
   "metadata": {},
   "outputs": [
    {
     "data": {
      "text/plain": [
       "0.6143748606510524"
      ]
     },
     "execution_count": 11,
     "metadata": {},
     "output_type": "execute_result"
    }
   ],
   "source": [
    "d_Cs = math.sqrt( 0.5 * ((RhoX_Cs*RhoX_Cs).trace()*3. - 1)  )\n",
    "d_Cs\n"
   ]
  },
  {
   "cell_type": "markdown",
   "metadata": {},
   "source": [
    "### Variations\n",
    "\n",
    "LambdaTheta variations, fisrt is UP, second DOWN"
   ]
  },
  {
   "cell_type": "code",
   "execution_count": 12,
   "metadata": {},
   "outputs": [],
   "source": [
    "RhoX_He_0 = np.array([[0.53410,           0.,     0.01421], \n",
    "                      [     0.,      0.57760,          0.], \n",
    "                      [0.01421,           0.,     -0.1117]])\n",
    "\n",
    "RhoX_He_1 = np.array([[0.46380,           0.,     0.01636], \n",
    "                      [     0.,      0.51390,          0.], \n",
    "                      [0.01636,           0.,     0.02223]])\n",
    "\n",
    "\n",
    "\n",
    "\n",
    "RhoX_Cs_0 = np.array([[0.54280,           0.,     0.016510], \n",
    "                      [     0.,       0.5880,           0.], \n",
    "                      [0.01651,           0.,     -0.13090]])\n",
    "  \n",
    "RhoX_Cs_1 = np.array([[ 0.4805,           0.,     0.018770], \n",
    "                      [     0.,      0.53180,           0.], \n",
    "                      [0.01877,           0.,    -0.012270]])\n",
    "  "
   ]
  },
  {
   "cell_type": "code",
   "execution_count": 13,
   "metadata": {},
   "outputs": [
    {
     "data": {
      "text/plain": [
       "0.4685581440440449"
      ]
     },
     "execution_count": 13,
     "metadata": {},
     "output_type": "execute_result"
    }
   ],
   "source": [
    "d_He_1 = math.sqrt( 0.5 * ((RhoX_He_1*RhoX_He_1).trace()*3. - 1)  )\n",
    "d_He_1\n"
   ]
  },
  {
   "cell_type": "code",
   "execution_count": 14,
   "metadata": {},
   "outputs": [
    {
     "data": {
      "text/plain": [
       "0.6686121371916607"
      ]
     },
     "execution_count": 14,
     "metadata": {},
     "output_type": "execute_result"
    }
   ],
   "source": [
    "d_He_0 = math.sqrt( 0.5 * ((RhoX_He_0*RhoX_He_0).trace()*3. - 1)  )\n",
    "d_He_0\n"
   ]
  },
  {
   "cell_type": "code",
   "execution_count": 15,
   "metadata": {},
   "outputs": [
    {
     "data": {
      "text/plain": [
       "0.6973277385849496"
      ]
     },
     "execution_count": 15,
     "metadata": {},
     "output_type": "execute_result"
    }
   ],
   "source": [
    "d_Cs_0 = math.sqrt( 0.5 * ((RhoX_Cs_0*RhoX_Cs_0).trace()*3. - 1)  )\n",
    "d_Cs_0\n"
   ]
  },
  {
   "cell_type": "code",
   "execution_count": 16,
   "metadata": {},
   "outputs": [
    {
     "data": {
      "text/plain": [
       "0.5203489832314464"
      ]
     },
     "execution_count": 16,
     "metadata": {},
     "output_type": "execute_result"
    }
   ],
   "source": [
    "d_Cs_1 = math.sqrt( 0.5 * ((RhoX_Cs_1*RhoX_Cs_1).trace()*3. - 1)  )\n",
    "d_Cs_1\n"
   ]
  },
  {
   "cell_type": "markdown",
   "metadata": {},
   "source": [
    "LambdaPhi variations, fisrt is UP, second DOWN"
   ]
  },
  {
   "cell_type": "code",
   "execution_count": 17,
   "metadata": {},
   "outputs": [],
   "source": [
    "RhoX_He_2 = np.array([[0.48490,           0.,     0.015210], \n",
    "                      [     0.,      0.56450,           0.], \n",
    "                      [0.01521,           0.,    -0.049430]])\n",
    "\n",
    "RhoX_He_3 = np.array([[0.51790,           0.,     0.015210], \n",
    "                      [     0.,      0.53150,           0.], \n",
    "                      [0.01521,           0.,    -0.049430]])\n",
    "\n",
    "\n",
    "\n",
    "\n",
    "\n",
    "\n",
    "RhoX_Cs_2 = np.array([[0.49700,           0.,     0.01757 ], \n",
    "                      [     0.,      0.57840,           0.], \n",
    "                      [0.01757,           0.,    -0.07536 ]])\n",
    "\n",
    "RhoX_Cs_3 = np.array([[0.53030,           0.,     0.01757 ], \n",
    "                      [     0.,       0.5450,           0.], \n",
    "                      [0.01757,           0.,    -0.07536 ]])\n",
    "  \n"
   ]
  },
  {
   "cell_type": "code",
   "execution_count": 18,
   "metadata": {},
   "outputs": [
    {
     "data": {
      "text/plain": [
       "0.5782277901917201"
      ]
     },
     "execution_count": 18,
     "metadata": {},
     "output_type": "execute_result"
    }
   ],
   "source": [
    "d_He_2 = math.sqrt( 0.5 * ((RhoX_He_2*RhoX_He_2).trace()*3. - 1)  )\n",
    "d_He_2\n"
   ]
  },
  {
   "cell_type": "code",
   "execution_count": 19,
   "metadata": {},
   "outputs": [
    {
     "data": {
      "text/plain": [
       "0.5742246749748742"
      ]
     },
     "execution_count": 19,
     "metadata": {},
     "output_type": "execute_result"
    }
   ],
   "source": [
    "d_He_3 = math.sqrt( 0.5 * ((RhoX_He_3*RhoX_He_3).trace()*3. - 1)  )\n",
    "d_He_3\n"
   ]
  },
  {
   "cell_type": "code",
   "execution_count": 20,
   "metadata": {},
   "outputs": [
    {
     "data": {
      "text/plain": [
       "0.617132104496274"
      ]
     },
     "execution_count": 20,
     "metadata": {},
     "output_type": "execute_result"
    }
   ],
   "source": [
    "d_Cs_2 = math.sqrt( 0.5 * ((RhoX_Cs_2*RhoX_Cs_2).trace()*3. - 1)  )\n",
    "d_Cs_2\n"
   ]
  },
  {
   "cell_type": "code",
   "execution_count": 21,
   "metadata": {},
   "outputs": [
    {
     "data": {
      "text/plain": [
       "0.6130932469045798"
      ]
     },
     "execution_count": 21,
     "metadata": {},
     "output_type": "execute_result"
    }
   ],
   "source": [
    "d_Cs_3 = math.sqrt( 0.5 * ((RhoX_Cs_3*RhoX_Cs_3).trace()*3. - 1)  )\n",
    "d_Cs_3\n"
   ]
  },
  {
   "cell_type": "markdown",
   "metadata": {},
   "source": [
    "LambdaThetaPhi variations, fisrt is UP, second DOWN"
   ]
  },
  {
   "cell_type": "code",
   "execution_count": 22,
   "metadata": {},
   "outputs": [],
   "source": [
    "RhoX_He_4 = np.array([[0.5014000,           0.,   -0.0026060], \n",
    "                      [       0.,       0.5480,           0.], \n",
    "                      [-0.002606,           0.,    -0.049430]])\n",
    "\n",
    "RhoX_He_5 = np.array([[0.50140,           0.,     0.033020], \n",
    "                      [     0.,       0.5480,           0.], \n",
    "                      [0.03302,           0.,    -0.049430]])\n",
    "\n",
    "\n",
    "\n",
    "\n",
    "\n",
    "\n",
    "\n",
    "\n",
    "RhoX_Cs_4 = np.array([[0.51360000,           0.,  -0.00015140 ], \n",
    "                      [        0.,      0.56170,           0. ], \n",
    "                      [-0.0001514,           0.,    -0.075360 ]])\n",
    "\n",
    "RhoX_Cs_5 = np.array([[0.5136000,           0.,     0.03520  ], \n",
    "                      [       0.,      0.56170,           0. ], \n",
    "                      [ 0.035290,           0.,    -0.075360 ]])\n"
   ]
  },
  {
   "cell_type": "code",
   "execution_count": 23,
   "metadata": {},
   "outputs": [
    {
     "data": {
      "text/plain": [
       "0.5755205707444349"
      ]
     },
     "execution_count": 23,
     "metadata": {},
     "output_type": "execute_result"
    }
   ],
   "source": [
    "d_He_4 = math.sqrt( 0.5 * ((RhoX_He_4*RhoX_He_4).trace()*3. - 1)  )\n",
    "d_He_4\n"
   ]
  },
  {
   "cell_type": "code",
   "execution_count": 24,
   "metadata": {},
   "outputs": [
    {
     "data": {
      "text/plain": [
       "0.5755205707444349"
      ]
     },
     "execution_count": 24,
     "metadata": {},
     "output_type": "execute_result"
    }
   ],
   "source": [
    "d_He_5 = math.sqrt( 0.5 * ((RhoX_He_5*RhoX_He_5).trace()*3. - 1)  )\n",
    "d_He_5\n"
   ]
  },
  {
   "cell_type": "code",
   "execution_count": 25,
   "metadata": {},
   "outputs": [
    {
     "data": {
      "text/plain": [
       "0.6143748606510524"
      ]
     },
     "execution_count": 25,
     "metadata": {},
     "output_type": "execute_result"
    }
   ],
   "source": [
    "d_Cs_4 = math.sqrt( 0.5 * ((RhoX_Cs_4*RhoX_Cs_4).trace()*3. - 1)  )\n",
    "d_Cs_4\n"
   ]
  },
  {
   "cell_type": "code",
   "execution_count": 26,
   "metadata": {},
   "outputs": [
    {
     "data": {
      "text/plain": [
       "0.6143748606510524"
      ]
     },
     "execution_count": 26,
     "metadata": {},
     "output_type": "execute_result"
    }
   ],
   "source": [
    "d_Cs_5 = math.sqrt( 0.5 * ((RhoX_Cs_5*RhoX_Cs_5).trace()*3. - 1)  )\n",
    "d_Cs_5\n"
   ]
  },
  {
   "cell_type": "markdown",
   "metadata": {},
   "source": [
    "Error computation"
   ]
  },
  {
   "cell_type": "code",
   "execution_count": 27,
   "metadata": {},
   "outputs": [
    {
     "data": {
      "text/plain": [
       "0.09309156644722583"
      ]
     },
     "execution_count": 27,
     "metadata": {},
     "output_type": "execute_result"
    }
   ],
   "source": [
    "Err_d_He_up = 0.6686121371916607 - 0.5755205707444349\n",
    "Err_d_He_up"
   ]
  },
  {
   "cell_type": "code",
   "execution_count": 28,
   "metadata": {},
   "outputs": [
    {
     "data": {
      "text/plain": [
       "0.10696242670038997"
      ]
     },
     "execution_count": 28,
     "metadata": {},
     "output_type": "execute_result"
    }
   ],
   "source": [
    "Err_d_He_down = 0.5755205707444349 - 0.4685581440440449\n",
    "Err_d_He_down"
   ]
  },
  {
   "cell_type": "code",
   "execution_count": 29,
   "metadata": {},
   "outputs": [
    {
     "data": {
      "text/plain": [
       "0.08295287793389716"
      ]
     },
     "execution_count": 29,
     "metadata": {},
     "output_type": "execute_result"
    }
   ],
   "source": [
    "Err_d_Cs_up = 0.6973277385849496 - 0.6143748606510524\n",
    "Err_d_Cs_up"
   ]
  },
  {
   "cell_type": "code",
   "execution_count": 30,
   "metadata": {},
   "outputs": [
    {
     "data": {
      "text/plain": [
       "0.094025877419606"
      ]
     },
     "execution_count": 30,
     "metadata": {},
     "output_type": "execute_result"
    }
   ],
   "source": [
    "Err_d_Cs_down = 0.6143748606510524 - 0.5203489832314464\n",
    "Err_d_Cs_down"
   ]
  },
  {
   "cell_type": "markdown",
   "metadata": {},
   "source": [
    "### Error propagation Entropy"
   ]
  },
  {
   "cell_type": "code",
   "execution_count": 31,
   "metadata": {},
   "outputs": [
    {
     "data": {
      "text/plain": [
       "(5.830951894845301, 1.0303768265243125)"
      ]
     },
     "execution_count": 31,
     "metadata": {},
     "output_type": "execute_result"
    }
   ],
   "source": [
    "import math\n",
    "def polar(z):\n",
    "    a= z.real\n",
    "    b= z.imag\n",
    "    r = math.hypot(a,b)\n",
    "    theta = math.atan2(b,a)\n",
    "    return r,theta # use return instead of print.\n",
    "\n",
    "u=3+5j\n",
    "polar(u)"
   ]
  },
  {
   "cell_type": "code",
   "execution_count": 32,
   "metadata": {},
   "outputs": [],
   "source": [
    "import cmath"
   ]
  },
  {
   "cell_type": "code",
   "execution_count": 33,
   "metadata": {},
   "outputs": [
    {
     "name": "stdout",
     "output_type": "stream",
     "text": [
      "0.5500627036583348 0.2837087697234073\n"
     ]
    }
   ],
   "source": [
    "# r_He, theta_He = polar(S_He)\n",
    "r_He, theta_He = cmath.polar(S_He)\n",
    "print(r_He, theta_He)"
   ]
  },
  {
   "cell_type": "code",
   "execution_count": 34,
   "metadata": {},
   "outputs": [
    {
     "name": "stdout",
     "output_type": "stream",
     "text": [
      "Help on module cmath:\n",
      "\n",
      "NAME\n",
      "    cmath\n",
      "\n",
      "MODULE REFERENCE\n",
      "    https://docs.python.org/3.7/library/cmath\n",
      "    \n",
      "    The following documentation is automatically generated from the Python\n",
      "    source files.  It may be incomplete, incorrect or include features that\n",
      "    are considered implementation detail and may vary between Python\n",
      "    implementations.  When in doubt, consult the module reference at the\n",
      "    location listed above.\n",
      "\n",
      "DESCRIPTION\n",
      "    This module provides access to mathematical functions for complex\n",
      "    numbers.\n",
      "\n",
      "FUNCTIONS\n",
      "    acos(z, /)\n",
      "        Return the arc cosine of z.\n",
      "    \n",
      "    acosh(z, /)\n",
      "        Return the inverse hyperbolic cosine of z.\n",
      "    \n",
      "    asin(z, /)\n",
      "        Return the arc sine of z.\n",
      "    \n",
      "    asinh(z, /)\n",
      "        Return the inverse hyperbolic sine of z.\n",
      "    \n",
      "    atan(z, /)\n",
      "        Return the arc tangent of z.\n",
      "    \n",
      "    atanh(z, /)\n",
      "        Return the inverse hyperbolic tangent of z.\n",
      "    \n",
      "    cos(z, /)\n",
      "        Return the cosine of z.\n",
      "    \n",
      "    cosh(z, /)\n",
      "        Return the hyperbolic cosine of z.\n",
      "    \n",
      "    exp(z, /)\n",
      "        Return the exponential value e**z.\n",
      "    \n",
      "    isclose(a, b, *, rel_tol=1e-09, abs_tol=0.0)\n",
      "        Determine whether two complex numbers are close in value.\n",
      "        \n",
      "          rel_tol\n",
      "            maximum difference for being considered \"close\", relative to the\n",
      "            magnitude of the input values\n",
      "          abs_tol\n",
      "            maximum difference for being considered \"close\", regardless of the\n",
      "            magnitude of the input values\n",
      "        \n",
      "        Return True if a is close in value to b, and False otherwise.\n",
      "        \n",
      "        For the values to be considered close, the difference between them must be\n",
      "        smaller than at least one of the tolerances.\n",
      "        \n",
      "        -inf, inf and NaN behave similarly to the IEEE 754 Standard. That is, NaN is\n",
      "        not close to anything, even itself. inf and -inf are only close to themselves.\n",
      "    \n",
      "    isfinite(z, /)\n",
      "        Return True if both the real and imaginary parts of z are finite, else False.\n",
      "    \n",
      "    isinf(z, /)\n",
      "        Checks if the real or imaginary part of z is infinite.\n",
      "    \n",
      "    isnan(z, /)\n",
      "        Checks if the real or imaginary part of z not a number (NaN).\n",
      "    \n",
      "    log(x, y_obj=None, /)\n",
      "        The logarithm of z to the given base.\n",
      "        \n",
      "        If the base not specified, returns the natural logarithm (base e) of z.\n",
      "    \n",
      "    log10(z, /)\n",
      "        Return the base-10 logarithm of z.\n",
      "    \n",
      "    phase(z, /)\n",
      "        Return argument, also known as the phase angle, of a complex.\n",
      "    \n",
      "    polar(z, /)\n",
      "        Convert a complex from rectangular coordinates to polar coordinates.\n",
      "        \n",
      "        r is the distance from 0 and phi the phase angle.\n",
      "    \n",
      "    rect(r, phi, /)\n",
      "        Convert from polar coordinates to rectangular coordinates.\n",
      "    \n",
      "    sin(z, /)\n",
      "        Return the sine of z.\n",
      "    \n",
      "    sinh(z, /)\n",
      "        Return the hyperbolic sine of z.\n",
      "    \n",
      "    sqrt(z, /)\n",
      "        Return the square root of z.\n",
      "    \n",
      "    tan(z, /)\n",
      "        Return the tangent of z.\n",
      "    \n",
      "    tanh(z, /)\n",
      "        Return the hyperbolic tangent of z.\n",
      "\n",
      "DATA\n",
      "    e = 2.718281828459045\n",
      "    inf = inf\n",
      "    infj = infj\n",
      "    nan = nan\n",
      "    nanj = nanj\n",
      "    pi = 3.141592653589793\n",
      "    tau = 6.283185307179586\n",
      "\n",
      "FILE\n",
      "    /opt/anaconda3/lib/python3.7/lib-dynload/cmath.cpython-37m-darwin.so\n",
      "\n",
      "\n"
     ]
    }
   ],
   "source": [
    "help(cmath)"
   ]
  },
  {
   "cell_type": "code",
   "execution_count": 35,
   "metadata": {},
   "outputs": [],
   "source": [
    "# S_He_inverted = complex(r_He, 0.) * math.exp(1.j*theta_He)\n",
    "# S_He_inverted = complex(r_He, theta_He)\n",
    "# S_He_inverted"
   ]
  },
  {
   "cell_type": "code",
   "execution_count": 36,
   "metadata": {},
   "outputs": [
    {
     "name": "stdout",
     "output_type": "stream",
     "text": [
      "0.5372458677769597 0.7093621051388749\n"
     ]
    }
   ],
   "source": [
    "log_RhoX_He_0 = logm(RhoX_He_0)\n",
    "log_RhoX_He_0\n",
    "S_He_0 = (-1.)*(RhoX_He_0*log_RhoX_He_0).trace()\n",
    "S_He_0\n",
    "r_He_0, theta_He_0 = cmath.polar(S_He_0)\n",
    "print(r_He_0, theta_He_0)"
   ]
  },
  {
   "cell_type": "code",
   "execution_count": 37,
   "metadata": {},
   "outputs": [
    {
     "name": "stdout",
     "output_type": "stream",
     "text": [
      "0.7849297464487924 0.0\n"
     ]
    }
   ],
   "source": [
    "log_RhoX_He_1 = logm(RhoX_He_1)\n",
    "log_RhoX_He_1\n",
    "S_He_1 = (-1.)*(RhoX_He_1*log_RhoX_He_1).trace()\n",
    "S_He_1\n",
    "r_He_1, theta_He_1 = cmath.polar(S_He_1)\n",
    "print(r_He_1, theta_He_1)"
   ]
  },
  {
   "cell_type": "code",
   "execution_count": 38,
   "metadata": {},
   "outputs": [
    {
     "name": "stdout",
     "output_type": "stream",
     "text": [
      "0.5481587073152585 0.2846447838952912\n"
     ]
    }
   ],
   "source": [
    "log_RhoX_He_2 = logm(RhoX_He_2)\n",
    "S_He_2 = (-1.)*(RhoX_He_2*log_RhoX_He_2).trace()\n",
    "S_He_2\n",
    "r_He_2, theta_He_2 = cmath.polar(S_He_2)\n",
    "print(r_He_2, theta_He_2)"
   ]
  },
  {
   "cell_type": "code",
   "execution_count": 39,
   "metadata": {},
   "outputs": [
    {
     "name": "stdout",
     "output_type": "stream",
     "text": [
      "0.5509683524895818 0.28330158913392944\n"
     ]
    }
   ],
   "source": [
    "log_RhoX_He_3 = logm(RhoX_He_3)\n",
    "S_He_3 = (-1.)*(RhoX_He_3*log_RhoX_He_3).trace()\n",
    "S_He_3\n",
    "r_He_3, theta_He_3 = cmath.polar(S_He_3)\n",
    "print(r_He_3, theta_He_3)"
   ]
  },
  {
   "cell_type": "code",
   "execution_count": 40,
   "metadata": {},
   "outputs": [
    {
     "name": "stdout",
     "output_type": "stream",
     "text": [
      "0.5495223604012452 0.2864184811286875\n"
     ]
    }
   ],
   "source": [
    "log_RhoX_He_4 = logm(RhoX_He_4)\n",
    "S_He_4 = (-1.)*(RhoX_He_4*log_RhoX_He_4).trace()\n",
    "S_He_4\n",
    "r_He_4, theta_He_4 = cmath.polar(S_He_4)\n",
    "print(r_He_4, theta_He_4)"
   ]
  },
  {
   "cell_type": "code",
   "execution_count": 41,
   "metadata": {},
   "outputs": [
    {
     "name": "stdout",
     "output_type": "stream",
     "text": [
      "0.5520666748074846 0.2735410079878235\n"
     ]
    }
   ],
   "source": [
    "log_RhoX_He_5 = logm(RhoX_He_5)\n",
    "S_He_5 = (-1.)*(RhoX_He_5*log_RhoX_He_5).trace()\n",
    "S_He_5\n",
    "r_He_5, theta_He_5 = cmath.polar(S_He_5)\n",
    "print(r_He_5, theta_He_5)"
   ]
  },
  {
   "cell_type": "code",
   "execution_count": 42,
   "metadata": {},
   "outputs": [
    {
     "name": "stdout",
     "output_type": "stream",
     "text": [
      "0.5276320357694987 0.46183440938711917\n"
     ]
    }
   ],
   "source": [
    "log_RhoX_Cs_ori = logm(RhoX_Cs)\n",
    "S_Cs_ori = (-1.)*(RhoX_Cs*log_RhoX_Cs_ori).trace()\n",
    "S_Cs_ori\n",
    "r_Cs_ori, theta_Cs_ori = cmath.polar(S_Cs_ori)\n",
    "print(r_Cs_ori, theta_Cs_ori)"
   ]
  },
  {
   "cell_type": "code",
   "execution_count": 43,
   "metadata": {},
   "outputs": [
    {
     "name": "stdout",
     "output_type": "stream",
     "text": [
      "0.5578473678749509 0.8255288358760835\n"
     ]
    }
   ],
   "source": [
    "log_RhoX_Cs_0 = logm(RhoX_Cs_0)\n",
    "S_Cs_0 = (-1.)*(RhoX_Cs_0*log_RhoX_Cs_0).trace()\n",
    "S_Cs_0\n",
    "r_Cs_0, theta_Cs_0 = cmath.polar(S_Cs_0)\n",
    "print(r_Cs_0, theta_Cs_0)"
   ]
  },
  {
   "cell_type": "code",
   "execution_count": 44,
   "metadata": {},
   "outputs": [
    {
     "name": "stdout",
     "output_type": "stream",
     "text": [
      "0.6375888267919385 0.05698124044703028\n"
     ]
    }
   ],
   "source": [
    "log_RhoX_Cs_1 = logm(RhoX_Cs_1)\n",
    "S_Cs_1 = (-1.)*(RhoX_Cs_1*log_RhoX_Cs_1).trace()\n",
    "S_Cs_1\n",
    "r_Cs_1, theta_Cs_1 = cmath.polar(S_Cs_1)\n",
    "print(r_Cs_1, theta_Cs_1)"
   ]
  },
  {
   "cell_type": "code",
   "execution_count": 45,
   "metadata": {},
   "outputs": [
    {
     "name": "stdout",
     "output_type": "stream",
     "text": [
      "0.6375888267919385 0.05698124044703028\n"
     ]
    }
   ],
   "source": [
    "log_RhoX_Cs_1 = logm(RhoX_Cs_1)\n",
    "S_Cs_1 = (-1.)*(RhoX_Cs_1*log_RhoX_Cs_1).trace()\n",
    "S_Cs_1\n",
    "r_Cs_1, theta_Cs_1 = cmath.polar(S_Cs_1)\n",
    "print(r_Cs_1, theta_Cs_1)"
   ]
  },
  {
   "cell_type": "code",
   "execution_count": 46,
   "metadata": {},
   "outputs": [
    {
     "name": "stdout",
     "output_type": "stream",
     "text": [
      "0.5257903569657583 0.46347786588252904\n"
     ]
    }
   ],
   "source": [
    "log_RhoX_Cs_2 = logm(RhoX_Cs_2)\n",
    "S_Cs_2 = (-1.)*(RhoX_Cs_2*log_RhoX_Cs_2).trace()\n",
    "S_Cs_2\n",
    "r_Cs_2, theta_Cs_2 = cmath.polar(S_Cs_2)\n",
    "print(r_Cs_2, theta_Cs_2)"
   ]
  },
  {
   "cell_type": "code",
   "execution_count": 47,
   "metadata": {},
   "outputs": [
    {
     "name": "stdout",
     "output_type": "stream",
     "text": [
      "0.5285158421470824 0.46109742817345717\n"
     ]
    }
   ],
   "source": [
    "log_RhoX_Cs_3 = logm(RhoX_Cs_3)\n",
    "S_Cs_3 = (-1.)*(RhoX_Cs_3*log_RhoX_Cs_3).trace()\n",
    "S_Cs_3\n",
    "r_Cs_3, theta_Cs_3 = cmath.polar(S_Cs_3)\n",
    "print(r_Cs_3, theta_Cs_3)"
   ]
  },
  {
   "cell_type": "code",
   "execution_count": 48,
   "metadata": {},
   "outputs": [
    {
     "name": "stdout",
     "output_type": "stream",
     "text": [
      "0.527473306902586 0.46546507542821514\n"
     ]
    }
   ],
   "source": [
    "log_RhoX_Cs_4 = logm(RhoX_Cs_4)\n",
    "S_Cs_4 = (-1.)*(RhoX_Cs_4*log_RhoX_Cs_4).trace()\n",
    "S_Cs_4\n",
    "r_Cs_4, theta_Cs_4 = cmath.polar(S_Cs_4)\n",
    "print(r_Cs_4, theta_Cs_4)"
   ]
  },
  {
   "cell_type": "code",
   "execution_count": 49,
   "metadata": {},
   "outputs": [
    {
     "name": "stdout",
     "output_type": "stream",
     "text": [
      "0.5280990639573117 0.4510302180638961\n"
     ]
    }
   ],
   "source": [
    "log_RhoX_Cs_5 = logm(RhoX_Cs_5)\n",
    "S_Cs_5 = (-1.)*(RhoX_Cs_5*log_RhoX_Cs_5).trace()\n",
    "S_Cs_5\n",
    "r_Cs_5, theta_Cs_5 = cmath.polar(S_Cs_5)\n",
    "print(r_Cs_5, theta_Cs_5)"
   ]
  },
  {
   "cell_type": "markdown",
   "metadata": {},
   "source": [
    "The actual uncertainties"
   ]
  },
  {
   "cell_type": "code",
   "execution_count": 50,
   "metadata": {},
   "outputs": [
    {
     "name": "stdout",
     "output_type": "stream",
     "text": [
      "0.23486704279045767 0.012816835881375055\n"
     ]
    }
   ],
   "source": [
    "Err_rho_He_up   = 0.7849297464487924 - 0.5500627036583348\n",
    "Err_rho_He_down = 0.5500627036583348 - 0.5372458677769597\n",
    "\n",
    "print(Err_rho_He_up, Err_rho_He_down)"
   ]
  },
  {
   "cell_type": "code",
   "execution_count": 51,
   "metadata": {},
   "outputs": [
    {
     "name": "stdout",
     "output_type": "stream",
     "text": [
      "0.42565333541546757 0.2837087697234073\n"
     ]
    }
   ],
   "source": [
    "Err_theta_He_up   = 0.7093621051388749 - 0.2837087697234073\n",
    "Err_theta_He_down = 0.2837087697234073 - 0.\n",
    "\n",
    "print(Err_theta_He_up, Err_theta_He_down)"
   ]
  },
  {
   "cell_type": "code",
   "execution_count": 52,
   "metadata": {},
   "outputs": [
    {
     "name": "stdout",
     "output_type": "stream",
     "text": [
      "0.10995679102243983 0.00015872886691270516\n"
     ]
    }
   ],
   "source": [
    "Err_rho_Cs_up   = 0.6375888267919385 - 0.5276320357694987\n",
    "Err_rho_Cs_down = 0.5276320357694987 - 0.527473306902586\n",
    "\n",
    "print(Err_rho_Cs_up, Err_rho_Cs_down)"
   ]
  },
  {
   "cell_type": "code",
   "execution_count": 53,
   "metadata": {},
   "outputs": [
    {
     "name": "stdout",
     "output_type": "stream",
     "text": [
      "0.36369442648896433 0.4048531689400889\n"
     ]
    }
   ],
   "source": [
    "Err_theta_Cs_up   = 0.8255288358760835  - 0.46183440938711917\n",
    "Err_theta_Cs_down = 0.46183440938711917 - 0.05698124044703028\n",
    "\n",
    "print(Err_theta_Cs_up, Err_theta_Cs_down)"
   ]
  },
  {
   "cell_type": "markdown",
   "metadata": {},
   "source": [
    "### Eigenvalues and eigenvectors\n",
    "Computed for probe."
   ]
  },
  {
   "cell_type": "code",
   "execution_count": 55,
   "metadata": {},
   "outputs": [],
   "source": [
    "from numpy import linalg as al\n",
    "from numpy.linalg import eig as eig\n"
   ]
  },
  {
   "cell_type": "code",
   "execution_count": 56,
   "metadata": {},
   "outputs": [
    {
     "name": "stdout",
     "output_type": "stream",
     "text": [
      "[0.5 0.5 0. ]\n",
      "[[1. 0. 0.]\n",
      " [0. 1. 0.]\n",
      " [0. 0. 1.]]\n"
     ]
    }
   ],
   "source": [
    "RhoX_TP = np.array([[0.5,0. ,0.], \n",
    "                    [0. ,0.5,0.], \n",
    "                    [0., 0., 0.]])\n",
    "\n",
    "EigValuesTP, EigVecsTP = eig(RhoX_TP)\n",
    "print(EigValuesTP)\n",
    "print(EigVecsTP)\n"
   ]
  },
  {
   "cell_type": "code",
   "execution_count": 58,
   "metadata": {},
   "outputs": [
    {
     "name": "stdout",
     "output_type": "stream",
     "text": [
      "[0.         0.         0.33333333]\n",
      "[[1. 0. 0.]\n",
      " [0. 1. 0.]\n",
      " [0. 0. 1.]]\n"
     ]
    }
   ],
   "source": [
    "RhoX_LP = np.array([[0. ,0. ,0.   ], \n",
    "                    [0. ,0. ,0.   ], \n",
    "                    [0. ,0. ,1./3.]])\n",
    "\n",
    "EigValuesLP, EigVecsLP = eig(RhoX_LP)\n",
    "print(EigValuesLP)\n",
    "print(EigVecsLP)\n"
   ]
  },
  {
   "cell_type": "code",
   "execution_count": 59,
   "metadata": {},
   "outputs": [
    {
     "name": "stdout",
     "output_type": "stream",
     "text": [
      "[ 0.50181967 -0.04984967  0.548     ]\n",
      "[[ 0.99961956 -0.02758136  0.        ]\n",
      " [ 0.          0.          1.        ]\n",
      " [ 0.02758136  0.99961956  0.        ]]\n"
     ]
    }
   ],
   "source": [
    "EigValuesHE, EigVecsHE = eig(RhoX_He)\n",
    "print(EigValuesHE)\n",
    "print(EigVecsHE)\n"
   ]
  },
  {
   "cell_type": "code",
   "execution_count": 60,
   "metadata": {},
   "outputs": [
    {
     "name": "stdout",
     "output_type": "stream",
     "text": [
      "[ 0.51412369 -0.07588369  0.5617    ]\n",
      "[[ 0.9995561  -0.02979251  0.        ]\n",
      " [ 0.          0.          1.        ]\n",
      " [ 0.02979251  0.9995561   0.        ]]\n"
     ]
    }
   ],
   "source": [
    "EigValuesCS, EigVecsCS = eig(RhoX_Cs)\n",
    "print(EigValuesCS)\n",
    "print(EigVecsCS)\n"
   ]
  },
  {
   "cell_type": "code",
   "execution_count": null,
   "metadata": {},
   "outputs": [],
   "source": []
  },
  {
   "cell_type": "code",
   "execution_count": null,
   "metadata": {},
   "outputs": [],
   "source": []
  }
 ],
 "metadata": {
  "kernelspec": {
   "display_name": "Python 3",
   "language": "python",
   "name": "python3"
  },
  "language_info": {
   "codemirror_mode": {
    "name": "ipython",
    "version": 3
   },
   "file_extension": ".py",
   "mimetype": "text/x-python",
   "name": "python",
   "nbconvert_exporter": "python",
   "pygments_lexer": "ipython3",
   "version": "3.7.4"
  }
 },
 "nbformat": 4,
 "nbformat_minor": 2
}
