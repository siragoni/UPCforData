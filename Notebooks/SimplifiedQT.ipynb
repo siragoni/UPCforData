{
 "cells": [
  {
   "cell_type": "markdown",
   "metadata": {},
   "source": [
    "# Simplified QT\n",
    "\n",
    "This notebook computes the entanglement entropy and the degree of polarisation."
   ]
  },
  {
   "cell_type": "code",
   "execution_count": 1,
   "metadata": {},
   "outputs": [],
   "source": [
    "import os\n",
    "import sys\n",
    "import warnings\n",
    "import matplotlib.pyplot as plt\n",
    "import pickle\n",
    "import uproot\n",
    "import numpy as np\n",
    "import pandas as pd\n",
    "# import xgboost as xgb\n",
    "import sklearn\n",
    "\n",
    "sys.path.insert(0, '../')\n",
    "# import analysis_utils as au\n",
    "\n",
    "# avoid pandas warning\n",
    "warnings.simplefilter(action='ignore', category=FutureWarning)\n"
   ]
  },
  {
   "cell_type": "code",
   "execution_count": 2,
   "metadata": {},
   "outputs": [],
   "source": [
    "import skhep\n",
    "from skhep import math\n",
    "\n",
    "\n",
    "# Levi-Civita symbol\n",
    "import sympy\n",
    "from sympy import LeviCivita\n"
   ]
  },
  {
   "cell_type": "code",
   "execution_count": 3,
   "metadata": {},
   "outputs": [],
   "source": [
    "from scipy.linalg import logm, expm"
   ]
  },
  {
   "cell_type": "code",
   "execution_count": 4,
   "metadata": {},
   "outputs": [],
   "source": [
    "# RhoX_He = np.array([[0.50140,           0.,     0.01521], \n",
    "#                     [     0.,       0.5480,          0.], \n",
    "#                     [0.01521,           0.,    -0.04943]])\n",
    "\n",
    "\n",
    "# RhoX_Cs = np.array([[0.51360,           0.,     0.01757], \n",
    "#                     [     0.,       0.5617,          0.], \n",
    "#                     [0.01757,           0.,    -0.07536]])\n",
    "\n",
    "RhoX_He = np.array([[0.47020,           0.,     0.01517 ], \n",
    "                    [     0.,       0.5187,          0. ], \n",
    "                    [0.01517,           0.,     0.01112 ]])\n",
    "\n",
    "\n",
    "RhoX_Cs = np.array([[0.47640,           0.,     0.01412], \n",
    "                    [     0.,       0.5148,          0.], \n",
    "                    [0.01412,           0.,    0.008827]])\n",
    "\n",
    "\n",
    "\n",
    "log_RhoX_He = logm(RhoX_He)\n",
    "log_RhoX_Cs = logm(RhoX_Cs)"
   ]
  },
  {
   "cell_type": "code",
   "execution_count": 5,
   "metadata": {},
   "outputs": [
    {
     "data": {
      "text/plain": [
       "array([[-0.75765936,  0.        ,  0.12501668],\n",
       "       [ 0.        , -0.6564296 ,  0.        ],\n",
       "       [ 0.12501668,  0.        , -4.54095903]])"
      ]
     },
     "execution_count": 5,
     "metadata": {},
     "output_type": "execute_result"
    }
   ],
   "source": [
    "log_RhoX_He\n"
   ]
  },
  {
   "cell_type": "code",
   "execution_count": 6,
   "metadata": {},
   "outputs": [
    {
     "data": {
      "text/plain": [
       "array([[-0.74427674,  0.        ,  0.12174391],\n",
       "       [ 0.        , -0.6639768 ,  0.        ],\n",
       "       [ 0.12174391,  0.        , -4.77573313]])"
      ]
     },
     "execution_count": 6,
     "metadata": {},
     "output_type": "execute_result"
    }
   ],
   "source": [
    "log_RhoX_Cs\n"
   ]
  },
  {
   "cell_type": "code",
   "execution_count": 7,
   "metadata": {},
   "outputs": [
    {
     "data": {
      "text/plain": [
       "0.7472369275132142"
      ]
     },
     "execution_count": 7,
     "metadata": {},
     "output_type": "execute_result"
    }
   ],
   "source": [
    "S_He = (-1.)*(RhoX_He*log_RhoX_He).trace()\n",
    "S_He\n"
   ]
  },
  {
   "cell_type": "code",
   "execution_count": 8,
   "metadata": {},
   "outputs": [
    {
     "data": {
      "text/plain": [
       "0.7385440935332406"
      ]
     },
     "execution_count": 8,
     "metadata": {},
     "output_type": "execute_result"
    }
   ],
   "source": [
    "S_Cs = (-1.)*(RhoX_Cs*log_RhoX_Cs).trace()\n",
    "S_Cs\n"
   ]
  },
  {
   "cell_type": "code",
   "execution_count": null,
   "metadata": {},
   "outputs": [],
   "source": [
    "RhoX_pure = np.array([[0.5, 0. , 0.], \n",
    "                      [0. , 0.5, 0.], \n",
    "                      [0. , 0. , 0.]])\n",
    "\n",
    "log_RhoX_pure = logm(RhoX_pure)\n",
    "log_RhoX_pure\n",
    "\n",
    "\n",
    "d_pure = math.sqrt( 0.5 * ((RhoX_pure*RhoX_pure).trace()*3. - 1)  )\n",
    "d_pure\n"
   ]
  },
  {
   "cell_type": "code",
   "execution_count": null,
   "metadata": {},
   "outputs": [],
   "source": [
    "d_He = math.sqrt( 0.5 * ((RhoX_He*RhoX_He).trace()*3. - 1)  )\n",
    "d_He\n"
   ]
  },
  {
   "cell_type": "code",
   "execution_count": null,
   "metadata": {},
   "outputs": [],
   "source": [
    "d_Cs = math.sqrt( 0.5 * ((RhoX_Cs*RhoX_Cs).trace()*3. - 1)  )\n",
    "d_Cs\n"
   ]
  },
  {
   "cell_type": "markdown",
   "metadata": {},
   "source": [
    "### Variations\n",
    "\n",
    "LambdaTheta variations, fisrt is UP, second DOWN"
   ]
  },
  {
   "cell_type": "code",
   "execution_count": null,
   "metadata": {},
   "outputs": [],
   "source": [
    "RhoX_He_0 = np.array([[0.53410,           0.,     0.01421], \n",
    "                      [     0.,      0.57760,          0.], \n",
    "                      [0.01421,           0.,     -0.1117]])\n",
    "\n",
    "RhoX_He_1 = np.array([[0.46380,           0.,     0.01636], \n",
    "                      [     0.,      0.51390,          0.], \n",
    "                      [0.01636,           0.,     0.02223]])\n",
    "\n",
    "\n",
    "\n",
    "\n",
    "RhoX_Cs_0 = np.array([[0.54280,           0.,     0.016510], \n",
    "                      [     0.,       0.5880,           0.], \n",
    "                      [0.01651,           0.,     -0.13090]])\n",
    "  \n",
    "RhoX_Cs_1 = np.array([[ 0.4805,           0.,     0.018770], \n",
    "                      [     0.,      0.53180,           0.], \n",
    "                      [0.01877,           0.,    -0.012270]])\n",
    "  "
   ]
  },
  {
   "cell_type": "code",
   "execution_count": null,
   "metadata": {},
   "outputs": [],
   "source": [
    "d_He_1 = math.sqrt( 0.5 * ((RhoX_He_1*RhoX_He_1).trace()*3. - 1)  )\n",
    "d_He_1\n"
   ]
  },
  {
   "cell_type": "code",
   "execution_count": null,
   "metadata": {},
   "outputs": [],
   "source": [
    "d_He_0 = math.sqrt( 0.5 * ((RhoX_He_0*RhoX_He_0).trace()*3. - 1)  )\n",
    "d_He_0\n"
   ]
  },
  {
   "cell_type": "code",
   "execution_count": null,
   "metadata": {},
   "outputs": [],
   "source": [
    "d_Cs_0 = math.sqrt( 0.5 * ((RhoX_Cs_0*RhoX_Cs_0).trace()*3. - 1)  )\n",
    "d_Cs_0\n"
   ]
  },
  {
   "cell_type": "code",
   "execution_count": null,
   "metadata": {},
   "outputs": [],
   "source": [
    "d_Cs_1 = math.sqrt( 0.5 * ((RhoX_Cs_1*RhoX_Cs_1).trace()*3. - 1)  )\n",
    "d_Cs_1\n"
   ]
  },
  {
   "cell_type": "markdown",
   "metadata": {},
   "source": [
    "LambdaPhi variations, fisrt is UP, second DOWN"
   ]
  },
  {
   "cell_type": "code",
   "execution_count": null,
   "metadata": {},
   "outputs": [],
   "source": [
    "RhoX_He_2 = np.array([[0.48490,           0.,     0.015210], \n",
    "                      [     0.,      0.56450,           0.], \n",
    "                      [0.01521,           0.,    -0.049430]])\n",
    "\n",
    "RhoX_He_3 = np.array([[0.51790,           0.,     0.015210], \n",
    "                      [     0.,      0.53150,           0.], \n",
    "                      [0.01521,           0.,    -0.049430]])\n",
    "\n",
    "\n",
    "\n",
    "\n",
    "\n",
    "\n",
    "RhoX_Cs_2 = np.array([[0.49700,           0.,     0.01757 ], \n",
    "                      [     0.,      0.57840,           0.], \n",
    "                      [0.01757,           0.,    -0.07536 ]])\n",
    "\n",
    "RhoX_Cs_3 = np.array([[0.53030,           0.,     0.01757 ], \n",
    "                      [     0.,       0.5450,           0.], \n",
    "                      [0.01757,           0.,    -0.07536 ]])\n",
    "  \n"
   ]
  },
  {
   "cell_type": "code",
   "execution_count": null,
   "metadata": {},
   "outputs": [],
   "source": [
    "d_He_2 = math.sqrt( 0.5 * ((RhoX_He_2*RhoX_He_2).trace()*3. - 1)  )\n",
    "d_He_2\n"
   ]
  },
  {
   "cell_type": "code",
   "execution_count": null,
   "metadata": {},
   "outputs": [],
   "source": [
    "d_He_3 = math.sqrt( 0.5 * ((RhoX_He_3*RhoX_He_3).trace()*3. - 1)  )\n",
    "d_He_3\n"
   ]
  },
  {
   "cell_type": "code",
   "execution_count": null,
   "metadata": {},
   "outputs": [],
   "source": [
    "d_Cs_2 = math.sqrt( 0.5 * ((RhoX_Cs_2*RhoX_Cs_2).trace()*3. - 1)  )\n",
    "d_Cs_2\n"
   ]
  },
  {
   "cell_type": "code",
   "execution_count": null,
   "metadata": {},
   "outputs": [],
   "source": [
    "d_Cs_3 = math.sqrt( 0.5 * ((RhoX_Cs_3*RhoX_Cs_3).trace()*3. - 1)  )\n",
    "d_Cs_3\n"
   ]
  },
  {
   "cell_type": "markdown",
   "metadata": {},
   "source": [
    "LambdaThetaPhi variations, fisrt is UP, second DOWN"
   ]
  },
  {
   "cell_type": "code",
   "execution_count": null,
   "metadata": {},
   "outputs": [],
   "source": [
    "RhoX_He_4 = np.array([[0.5014000,           0.,   -0.0026060], \n",
    "                      [       0.,       0.5480,           0.], \n",
    "                      [-0.002606,           0.,    -0.049430]])\n",
    "\n",
    "RhoX_He_5 = np.array([[0.50140,           0.,     0.033020], \n",
    "                      [     0.,       0.5480,           0.], \n",
    "                      [0.03302,           0.,    -0.049430]])\n",
    "\n",
    "\n",
    "\n",
    "\n",
    "\n",
    "\n",
    "\n",
    "\n",
    "RhoX_Cs_4 = np.array([[0.51360000,           0.,  -0.00015140 ], \n",
    "                      [        0.,      0.56170,           0. ], \n",
    "                      [-0.0001514,           0.,    -0.075360 ]])\n",
    "\n",
    "RhoX_Cs_5 = np.array([[0.5136000,           0.,     0.03520  ], \n",
    "                      [       0.,      0.56170,           0. ], \n",
    "                      [ 0.035290,           0.,    -0.075360 ]])\n"
   ]
  },
  {
   "cell_type": "code",
   "execution_count": null,
   "metadata": {},
   "outputs": [],
   "source": [
    "d_He_4 = math.sqrt( 0.5 * ((RhoX_He_4*RhoX_He_4).trace()*3. - 1)  )\n",
    "d_He_4\n"
   ]
  },
  {
   "cell_type": "code",
   "execution_count": null,
   "metadata": {},
   "outputs": [],
   "source": [
    "d_He_5 = math.sqrt( 0.5 * ((RhoX_He_5*RhoX_He_5).trace()*3. - 1)  )\n",
    "d_He_5\n"
   ]
  },
  {
   "cell_type": "code",
   "execution_count": null,
   "metadata": {},
   "outputs": [],
   "source": [
    "d_Cs_4 = math.sqrt( 0.5 * ((RhoX_Cs_4*RhoX_Cs_4).trace()*3. - 1)  )\n",
    "d_Cs_4\n"
   ]
  },
  {
   "cell_type": "code",
   "execution_count": null,
   "metadata": {},
   "outputs": [],
   "source": [
    "d_Cs_5 = math.sqrt( 0.5 * ((RhoX_Cs_5*RhoX_Cs_5).trace()*3. - 1)  )\n",
    "d_Cs_5\n"
   ]
  },
  {
   "cell_type": "markdown",
   "metadata": {},
   "source": [
    "Error computation"
   ]
  },
  {
   "cell_type": "code",
   "execution_count": null,
   "metadata": {},
   "outputs": [],
   "source": [
    "Err_d_He_up = 0.6686121371916607 - 0.5755205707444349\n",
    "Err_d_He_up"
   ]
  },
  {
   "cell_type": "code",
   "execution_count": null,
   "metadata": {},
   "outputs": [],
   "source": [
    "Err_d_He_down = 0.5755205707444349 - 0.4685581440440449\n",
    "Err_d_He_down"
   ]
  },
  {
   "cell_type": "code",
   "execution_count": null,
   "metadata": {},
   "outputs": [],
   "source": [
    "Err_d_Cs_up = 0.6973277385849496 - 0.6143748606510524\n",
    "Err_d_Cs_up"
   ]
  },
  {
   "cell_type": "code",
   "execution_count": null,
   "metadata": {},
   "outputs": [],
   "source": [
    "Err_d_Cs_down = 0.6143748606510524 - 0.5203489832314464\n",
    "Err_d_Cs_down"
   ]
  },
  {
   "cell_type": "markdown",
   "metadata": {},
   "source": [
    "### Error propagation Entropy"
   ]
  },
  {
   "cell_type": "code",
   "execution_count": null,
   "metadata": {},
   "outputs": [],
   "source": [
    "import math\n",
    "def polar(z):\n",
    "    a= z.real\n",
    "    b= z.imag\n",
    "    r = math.hypot(a,b)\n",
    "    theta = math.atan2(b,a)\n",
    "    return r,theta # use return instead of print.\n",
    "\n",
    "u=3+5j\n",
    "polar(u)"
   ]
  },
  {
   "cell_type": "code",
   "execution_count": null,
   "metadata": {},
   "outputs": [],
   "source": [
    "import cmath"
   ]
  },
  {
   "cell_type": "code",
   "execution_count": null,
   "metadata": {},
   "outputs": [],
   "source": [
    "# r_He, theta_He = polar(S_He)\n",
    "r_He, theta_He = cmath.polar(S_He)\n",
    "print(r_He, theta_He)"
   ]
  },
  {
   "cell_type": "code",
   "execution_count": null,
   "metadata": {},
   "outputs": [],
   "source": [
    "help(cmath)"
   ]
  },
  {
   "cell_type": "code",
   "execution_count": null,
   "metadata": {},
   "outputs": [],
   "source": [
    "# S_He_inverted = complex(r_He, 0.) * math.exp(1.j*theta_He)\n",
    "# S_He_inverted = complex(r_He, theta_He)\n",
    "# S_He_inverted"
   ]
  },
  {
   "cell_type": "code",
   "execution_count": null,
   "metadata": {},
   "outputs": [],
   "source": [
    "log_RhoX_He_0 = logm(RhoX_He_0)\n",
    "log_RhoX_He_0\n",
    "S_He_0 = (-1.)*(RhoX_He_0*log_RhoX_He_0).trace()\n",
    "S_He_0\n",
    "r_He_0, theta_He_0 = cmath.polar(S_He_0)\n",
    "print(r_He_0, theta_He_0)"
   ]
  },
  {
   "cell_type": "code",
   "execution_count": null,
   "metadata": {},
   "outputs": [],
   "source": [
    "log_RhoX_He_1 = logm(RhoX_He_1)\n",
    "log_RhoX_He_1\n",
    "S_He_1 = (-1.)*(RhoX_He_1*log_RhoX_He_1).trace()\n",
    "S_He_1\n",
    "r_He_1, theta_He_1 = cmath.polar(S_He_1)\n",
    "print(r_He_1, theta_He_1)"
   ]
  },
  {
   "cell_type": "code",
   "execution_count": null,
   "metadata": {},
   "outputs": [],
   "source": [
    "log_RhoX_He_2 = logm(RhoX_He_2)\n",
    "S_He_2 = (-1.)*(RhoX_He_2*log_RhoX_He_2).trace()\n",
    "S_He_2\n",
    "r_He_2, theta_He_2 = cmath.polar(S_He_2)\n",
    "print(r_He_2, theta_He_2)"
   ]
  },
  {
   "cell_type": "code",
   "execution_count": null,
   "metadata": {},
   "outputs": [],
   "source": [
    "log_RhoX_He_3 = logm(RhoX_He_3)\n",
    "S_He_3 = (-1.)*(RhoX_He_3*log_RhoX_He_3).trace()\n",
    "S_He_3\n",
    "r_He_3, theta_He_3 = cmath.polar(S_He_3)\n",
    "print(r_He_3, theta_He_3)"
   ]
  },
  {
   "cell_type": "code",
   "execution_count": null,
   "metadata": {},
   "outputs": [],
   "source": [
    "log_RhoX_He_4 = logm(RhoX_He_4)\n",
    "S_He_4 = (-1.)*(RhoX_He_4*log_RhoX_He_4).trace()\n",
    "S_He_4\n",
    "r_He_4, theta_He_4 = cmath.polar(S_He_4)\n",
    "print(r_He_4, theta_He_4)"
   ]
  },
  {
   "cell_type": "code",
   "execution_count": null,
   "metadata": {},
   "outputs": [],
   "source": [
    "log_RhoX_He_5 = logm(RhoX_He_5)\n",
    "S_He_5 = (-1.)*(RhoX_He_5*log_RhoX_He_5).trace()\n",
    "S_He_5\n",
    "r_He_5, theta_He_5 = cmath.polar(S_He_5)\n",
    "print(r_He_5, theta_He_5)"
   ]
  },
  {
   "cell_type": "code",
   "execution_count": null,
   "metadata": {},
   "outputs": [],
   "source": [
    "log_RhoX_Cs_ori = logm(RhoX_Cs)\n",
    "S_Cs_ori = (-1.)*(RhoX_Cs*log_RhoX_Cs_ori).trace()\n",
    "S_Cs_ori\n",
    "r_Cs_ori, theta_Cs_ori = cmath.polar(S_Cs_ori)\n",
    "print(r_Cs_ori, theta_Cs_ori)"
   ]
  },
  {
   "cell_type": "code",
   "execution_count": null,
   "metadata": {},
   "outputs": [],
   "source": [
    "log_RhoX_Cs_0 = logm(RhoX_Cs_0)\n",
    "S_Cs_0 = (-1.)*(RhoX_Cs_0*log_RhoX_Cs_0).trace()\n",
    "S_Cs_0\n",
    "r_Cs_0, theta_Cs_0 = cmath.polar(S_Cs_0)\n",
    "print(r_Cs_0, theta_Cs_0)"
   ]
  },
  {
   "cell_type": "code",
   "execution_count": null,
   "metadata": {},
   "outputs": [],
   "source": [
    "log_RhoX_Cs_1 = logm(RhoX_Cs_1)\n",
    "S_Cs_1 = (-1.)*(RhoX_Cs_1*log_RhoX_Cs_1).trace()\n",
    "S_Cs_1\n",
    "r_Cs_1, theta_Cs_1 = cmath.polar(S_Cs_1)\n",
    "print(r_Cs_1, theta_Cs_1)"
   ]
  },
  {
   "cell_type": "code",
   "execution_count": null,
   "metadata": {},
   "outputs": [],
   "source": [
    "log_RhoX_Cs_1 = logm(RhoX_Cs_1)\n",
    "S_Cs_1 = (-1.)*(RhoX_Cs_1*log_RhoX_Cs_1).trace()\n",
    "S_Cs_1\n",
    "r_Cs_1, theta_Cs_1 = cmath.polar(S_Cs_1)\n",
    "print(r_Cs_1, theta_Cs_1)"
   ]
  },
  {
   "cell_type": "code",
   "execution_count": null,
   "metadata": {},
   "outputs": [],
   "source": [
    "log_RhoX_Cs_2 = logm(RhoX_Cs_2)\n",
    "S_Cs_2 = (-1.)*(RhoX_Cs_2*log_RhoX_Cs_2).trace()\n",
    "S_Cs_2\n",
    "r_Cs_2, theta_Cs_2 = cmath.polar(S_Cs_2)\n",
    "print(r_Cs_2, theta_Cs_2)"
   ]
  },
  {
   "cell_type": "code",
   "execution_count": null,
   "metadata": {},
   "outputs": [],
   "source": [
    "log_RhoX_Cs_3 = logm(RhoX_Cs_3)\n",
    "S_Cs_3 = (-1.)*(RhoX_Cs_3*log_RhoX_Cs_3).trace()\n",
    "S_Cs_3\n",
    "r_Cs_3, theta_Cs_3 = cmath.polar(S_Cs_3)\n",
    "print(r_Cs_3, theta_Cs_3)"
   ]
  },
  {
   "cell_type": "code",
   "execution_count": null,
   "metadata": {},
   "outputs": [],
   "source": [
    "log_RhoX_Cs_4 = logm(RhoX_Cs_4)\n",
    "S_Cs_4 = (-1.)*(RhoX_Cs_4*log_RhoX_Cs_4).trace()\n",
    "S_Cs_4\n",
    "r_Cs_4, theta_Cs_4 = cmath.polar(S_Cs_4)\n",
    "print(r_Cs_4, theta_Cs_4)"
   ]
  },
  {
   "cell_type": "code",
   "execution_count": null,
   "metadata": {},
   "outputs": [],
   "source": [
    "log_RhoX_Cs_5 = logm(RhoX_Cs_5)\n",
    "S_Cs_5 = (-1.)*(RhoX_Cs_5*log_RhoX_Cs_5).trace()\n",
    "S_Cs_5\n",
    "r_Cs_5, theta_Cs_5 = cmath.polar(S_Cs_5)\n",
    "print(r_Cs_5, theta_Cs_5)"
   ]
  },
  {
   "cell_type": "markdown",
   "metadata": {},
   "source": [
    "The actual uncertainties"
   ]
  },
  {
   "cell_type": "code",
   "execution_count": null,
   "metadata": {},
   "outputs": [],
   "source": [
    "Err_rho_He_up   = 0.7849297464487924 - 0.5500627036583348\n",
    "Err_rho_He_down = 0.5500627036583348 - 0.5372458677769597\n",
    "\n",
    "print(Err_rho_He_up, Err_rho_He_down)"
   ]
  },
  {
   "cell_type": "code",
   "execution_count": null,
   "metadata": {},
   "outputs": [],
   "source": [
    "Err_theta_He_up   = 0.7093621051388749 - 0.2837087697234073\n",
    "Err_theta_He_down = 0.2837087697234073 - 0.\n",
    "\n",
    "print(Err_theta_He_up, Err_theta_He_down)"
   ]
  },
  {
   "cell_type": "code",
   "execution_count": null,
   "metadata": {},
   "outputs": [],
   "source": [
    "Err_rho_Cs_up   = 0.6375888267919385 - 0.5276320357694987\n",
    "Err_rho_Cs_down = 0.5276320357694987 - 0.527473306902586\n",
    "\n",
    "print(Err_rho_Cs_up, Err_rho_Cs_down)"
   ]
  },
  {
   "cell_type": "code",
   "execution_count": null,
   "metadata": {},
   "outputs": [],
   "source": [
    "Err_theta_Cs_up   = 0.8255288358760835  - 0.46183440938711917\n",
    "Err_theta_Cs_down = 0.46183440938711917 - 0.05698124044703028\n",
    "\n",
    "print(Err_theta_Cs_up, Err_theta_Cs_down)"
   ]
  },
  {
   "cell_type": "markdown",
   "metadata": {},
   "source": [
    "### Eigenvalues and eigenvectors\n",
    "Computed for probe."
   ]
  },
  {
   "cell_type": "code",
   "execution_count": null,
   "metadata": {},
   "outputs": [],
   "source": [
    "from numpy import linalg as al\n",
    "from numpy.linalg import eig as eig\n"
   ]
  },
  {
   "cell_type": "code",
   "execution_count": null,
   "metadata": {},
   "outputs": [],
   "source": [
    "RhoX_TP = np.array([[0.5,0. ,0.], \n",
    "                    [0. ,0.5,0.], \n",
    "                    [0., 0., 0.]])\n",
    "\n",
    "EigValuesTP, EigVecsTP = eig(RhoX_TP)\n",
    "print(EigValuesTP)\n",
    "print(EigVecsTP)\n"
   ]
  },
  {
   "cell_type": "code",
   "execution_count": null,
   "metadata": {},
   "outputs": [],
   "source": [
    "RhoX_LP = np.array([[0. ,0. ,0.   ], \n",
    "                    [0. ,0. ,0.   ], \n",
    "                    [0. ,0. ,1./3.]])\n",
    "\n",
    "EigValuesLP, EigVecsLP = eig(RhoX_LP)\n",
    "print(EigValuesLP)\n",
    "print(EigVecsLP)\n"
   ]
  },
  {
   "cell_type": "code",
   "execution_count": null,
   "metadata": {},
   "outputs": [],
   "source": [
    "EigValuesHE, EigVecsHE = eig(RhoX_He)\n",
    "print(EigValuesHE)\n",
    "print(EigVecsHE)\n"
   ]
  },
  {
   "cell_type": "code",
   "execution_count": null,
   "metadata": {},
   "outputs": [],
   "source": [
    "EigValuesCS, EigVecsCS = eig(RhoX_Cs)\n",
    "print(EigValuesCS)\n",
    "print(EigVecsCS)\n"
   ]
  },
  {
   "cell_type": "code",
   "execution_count": null,
   "metadata": {},
   "outputs": [],
   "source": []
  },
  {
   "cell_type": "code",
   "execution_count": null,
   "metadata": {},
   "outputs": [],
   "source": []
  }
 ],
 "metadata": {
  "kernelspec": {
   "display_name": "Python 3",
   "language": "python",
   "name": "python3"
  },
  "language_info": {
   "codemirror_mode": {
    "name": "ipython",
    "version": 3
   },
   "file_extension": ".py",
   "mimetype": "text/x-python",
   "name": "python",
   "nbconvert_exporter": "python",
   "pygments_lexer": "ipython3",
   "version": "3.7.4"
  }
 },
 "nbformat": 4,
 "nbformat_minor": 2
}
